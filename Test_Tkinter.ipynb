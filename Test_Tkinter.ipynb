{
 "cells": [
  {
   "cell_type": "code",
   "execution_count": 2,
   "id": "270498a5",
   "metadata": {},
   "outputs": [],
   "source": [
    "import tkinter as tk\n",
    "from tkinter import messagebox\n",
    "from PIL import Image, ImageTk\n",
    "import cv2\n",
    "import numpy as np\n",
    "import tensorflow as tf\n",
    "import logging\n",
    "import gc"
   ]
  },
  {
   "cell_type": "code",
   "execution_count": 3,
   "id": "17fee52d",
   "metadata": {},
   "outputs": [
    {
     "name": "stdout",
     "output_type": "stream",
     "text": [
      "1/1 [==============================] - 0s 344ms/step\n",
      "1/1 [==============================] - 0s 23ms/step\n"
     ]
    }
   ],
   "source": [
    "class MaskDetectionApp:\n",
    "    def __init__(self, root):\n",
    "        self.root = root\n",
    "        self.root.title(\"Real-Time Mask Detection\")\n",
    "        self.root.geometry(\"800x600\")\n",
    "        try:\n",
    "            icon_image = Image.open(\"logo.png\")\n",
    "            icon_photo = ImageTk.PhotoImage(icon_image)\n",
    "            self.root.iconphoto(True, icon_photo)\n",
    "            self.icon_photo = icon_photo\n",
    "        except Exception as e:\n",
    "            logging.error(f\"Error loading icon: {str(e)}\")\n",
    "            messagebox.showwarning(\"Warning\", \"Unable to load application icon.\")\n",
    "        self.model = tf.keras.models.load_model(\"mask_detection_model.keras\")\n",
    "        self.cap = cv2.VideoCapture(0)\n",
    "        if not self.cap.isOpened():\n",
    "            messagebox.showerror(\"Error\", \"Cannot access webcam\")\n",
    "            self.root.quit()\n",
    "        self.label = tk.Label(self.root)\n",
    "        self.label.pack(pady=10)\n",
    "        self.result_label = tk.Label(self.root, text=\"Prediction: None\", font=(\"Arial\", 14))\n",
    "        self.result_label.pack(pady=10)\n",
    "        self.btn_capture = tk.Button(self.root, text=\"Capture & Predict\", command=self.capture_and_predict, font=(\"Arial\", 12), bg=\"#000080\", fg=\"white\")\n",
    "        self.btn_capture.pack(pady=5)\n",
    "        self.btn_exit = tk.Button(self.root, text=\"Exit\", command=self.exit_app, font=(\"Arial\", 12), bg=\"#000080\", fg=\"white\")\n",
    "        self.btn_exit.pack(pady=5)\n",
    "        self.root.bind('q', lambda event: self.exit_app())\n",
    "        self.running = True\n",
    "        self.update_frame()\n",
    "\n",
    "    def update_frame(self):\n",
    "        if self.running:\n",
    "            ret, frame = self.cap.read()\n",
    "            if ret:\n",
    "                frame_rgb = cv2.cvtColor(frame, cv2.COLOR_BGR2RGB)\n",
    "                frame_resized = cv2.resize(frame_rgb, (640, 480))\n",
    "                img = Image.fromarray(frame_resized)\n",
    "                imgtk = ImageTk.PhotoImage(image=img)\n",
    "                self.label.imgtk = imgtk\n",
    "                self.label.configure(image=imgtk)\n",
    "            self.root.after(10, self.update_frame)\n",
    "\n",
    "    def capture_and_predict(self):\n",
    "        ret, frame = self.cap.read()\n",
    "        if ret:\n",
    "            img = cv2.cvtColor(frame, cv2.COLOR_BGR2RGB)\n",
    "            img = cv2.resize(img, (128, 128))\n",
    "            img = np.array(img) / 255.0\n",
    "            img = np.expand_dims(img, axis=0)\n",
    "            prediction = self.model.predict(img)\n",
    "            class_idx = np.argmax(prediction[0])\n",
    "            confidence = prediction[0][class_idx]\n",
    "            result = \"With Mask\" if class_idx == 1 else \"Without Mask\"\n",
    "            self.result_label.config(text=f\"Prediction: {result} ({confidence:.2%})\")\n",
    "\n",
    "    def exit_app(self):\n",
    "        self.running = False\n",
    "        if self.cap is not None:\n",
    "            self.cap.release()\n",
    "        if hasattr(self.label, 'imgtk'):\n",
    "            self.label.imgtk = None\n",
    "        self.label.destroy()\n",
    "        self.result_label.destroy()\n",
    "        self.btn_capture.destroy()\n",
    "        self.btn_exit.destroy()\n",
    "        gc.collect()\n",
    "        self.root.quit()\n",
    "        self.root.destroy()\n",
    "\n",
    "if __name__ == \"__main__\":\n",
    "    root = tk.Tk()\n",
    "    app = MaskDetectionApp(root)\n",
    "    root.mainloop()"
   ]
  },
  {
   "cell_type": "code",
   "execution_count": null,
   "id": "92640db1",
   "metadata": {},
   "outputs": [],
   "source": []
  }
 ],
 "metadata": {
  "kernelspec": {
   "display_name": "Python 3 (ipykernel)",
   "language": "python",
   "name": "python3"
  },
  "language_info": {
   "codemirror_mode": {
    "name": "ipython",
    "version": 3
   },
   "file_extension": ".py",
   "mimetype": "text/x-python",
   "name": "python",
   "nbconvert_exporter": "python",
   "pygments_lexer": "ipython3",
   "version": "3.8.8"
  }
 },
 "nbformat": 4,
 "nbformat_minor": 5
}
